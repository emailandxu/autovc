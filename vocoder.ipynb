{
 "cells": [
  {
   "cell_type": "code",
   "execution_count": 1,
   "metadata": {},
   "outputs": [
    {
     "name": "stdout",
     "output_type": "stream",
     "text": [
      "Requirement already satisfied: librosa==0.7.2 in /home/tony/miniconda3/envs/avc/lib/python3.6/site-packages (0.7.2)\n",
      "Requirement already satisfied: numpy>=1.15.0 in /home/tony/miniconda3/envs/avc/lib/python3.6/site-packages (from librosa==0.7.2) (1.19.5)\n",
      "Requirement already satisfied: soundfile>=0.9.0 in /home/tony/miniconda3/envs/avc/lib/python3.6/site-packages (from librosa==0.7.2) (0.10.3.post1)\n",
      "Requirement already satisfied: audioread>=2.0.0 in /home/tony/miniconda3/envs/avc/lib/python3.6/site-packages (from librosa==0.7.2) (2.1.9)\n",
      "Requirement already satisfied: six>=1.3 in /home/tony/miniconda3/envs/avc/lib/python3.6/site-packages (from librosa==0.7.2) (1.15.0)\n",
      "Requirement already satisfied: scikit-learn!=0.19.0,>=0.14.0 in /home/tony/miniconda3/envs/avc/lib/python3.6/site-packages (from librosa==0.7.2) (0.24.1)\n",
      "Requirement already satisfied: resampy>=0.2.2 in /home/tony/miniconda3/envs/avc/lib/python3.6/site-packages (from librosa==0.7.2) (0.2.2)\n",
      "Requirement already satisfied: joblib>=0.12 in /home/tony/miniconda3/envs/avc/lib/python3.6/site-packages (from librosa==0.7.2) (1.0.1)\n",
      "Requirement already satisfied: numba>=0.43.0 in /home/tony/miniconda3/envs/avc/lib/python3.6/site-packages (from librosa==0.7.2) (0.48.0)\n",
      "Requirement already satisfied: decorator>=3.0.0 in /home/tony/miniconda3/envs/avc/lib/python3.6/site-packages (from librosa==0.7.2) (4.4.2)\n",
      "Requirement already satisfied: scipy>=1.0.0 in /home/tony/miniconda3/envs/avc/lib/python3.6/site-packages (from librosa==0.7.2) (1.5.4)\n",
      "Requirement already satisfied: llvmlite<0.32.0,>=0.31.0dev0 in /home/tony/miniconda3/envs/avc/lib/python3.6/site-packages (from numba>=0.43.0->librosa==0.7.2) (0.31.0)\n",
      "Requirement already satisfied: setuptools in /home/tony/miniconda3/envs/avc/lib/python3.6/site-packages (from numba>=0.43.0->librosa==0.7.2) (52.0.0.post20210125)\n",
      "Requirement already satisfied: threadpoolctl>=2.0.0 in /home/tony/miniconda3/envs/avc/lib/python3.6/site-packages (from scikit-learn!=0.19.0,>=0.14.0->librosa==0.7.2) (2.1.0)\n",
      "Requirement already satisfied: cffi>=1.0 in /home/tony/miniconda3/envs/avc/lib/python3.6/site-packages (from soundfile>=0.9.0->librosa==0.7.2) (1.14.5)\n",
      "Requirement already satisfied: pycparser in /home/tony/miniconda3/envs/avc/lib/python3.6/site-packages (from cffi>=1.0->soundfile>=0.9.0->librosa==0.7.2) (2.20)\n",
      "Requirement already satisfied: numba==0.48.0 in /home/tony/miniconda3/envs/avc/lib/python3.6/site-packages (0.48.0)\n",
      "Requirement already satisfied: setuptools in /home/tony/miniconda3/envs/avc/lib/python3.6/site-packages (from numba==0.48.0) (52.0.0.post20210125)\n",
      "Requirement already satisfied: llvmlite<0.32.0,>=0.31.0dev0 in /home/tony/miniconda3/envs/avc/lib/python3.6/site-packages (from numba==0.48.0) (0.31.0)\n",
      "Requirement already satisfied: numpy>=1.15 in /home/tony/miniconda3/envs/avc/lib/python3.6/site-packages (from numba==0.48.0) (1.19.5)\n"
     ]
    }
   ],
   "source": [
    "!pip install librosa==0.7.2\n",
    "!pip install numba==0.48.0"
   ]
  },
  {
   "cell_type": "code",
   "execution_count": 4,
   "metadata": {},
   "outputs": [
    {
     "name": "stderr",
     "output_type": "stream",
     "text": [
      "  0%|          | 1/23040 [00:00<49:23,  7.78it/s]"
     ]
    },
    {
     "name": "stdout",
     "output_type": "stream",
     "text": [
      "p225xp225\n"
     ]
    },
    {
     "name": "stderr",
     "output_type": "stream",
     "text": [
      "100%|██████████| 23040/23040 [03:35<00:00, 107.16it/s]\n",
      "  0%|          | 1/23040 [00:00<56:23,  6.81it/s]"
     ]
    },
    {
     "name": "stdout",
     "output_type": "stream",
     "text": [
      "p225xp228\n"
     ]
    },
    {
     "name": "stderr",
     "output_type": "stream",
     "text": [
      "100%|██████████| 23040/23040 [03:35<00:00, 106.96it/s]\n",
      "  0%|          | 1/23040 [00:00<49:02,  7.83it/s]"
     ]
    },
    {
     "name": "stdout",
     "output_type": "stream",
     "text": [
      "p225xp256\n"
     ]
    },
    {
     "name": "stderr",
     "output_type": "stream",
     "text": [
      "100%|██████████| 23040/23040 [03:34<00:00, 107.27it/s]\n",
      "  0%|          | 1/23040 [00:00<49:23,  7.77it/s]"
     ]
    },
    {
     "name": "stdout",
     "output_type": "stream",
     "text": [
      "p225xp270\n"
     ]
    },
    {
     "name": "stderr",
     "output_type": "stream",
     "text": [
      "100%|██████████| 23040/23040 [03:32<00:00, 108.25it/s]\n",
      "  0%|          | 1/22784 [00:00<57:15,  6.63it/s]"
     ]
    },
    {
     "name": "stdout",
     "output_type": "stream",
     "text": [
      "p228xp225\n"
     ]
    },
    {
     "name": "stderr",
     "output_type": "stream",
     "text": [
      "100%|██████████| 22784/22784 [03:31<00:00, 107.56it/s]\n",
      "  0%|          | 1/22784 [00:00<53:20,  7.12it/s]"
     ]
    },
    {
     "name": "stdout",
     "output_type": "stream",
     "text": [
      "p228xp228\n"
     ]
    },
    {
     "name": "stderr",
     "output_type": "stream",
     "text": [
      "100%|██████████| 22784/22784 [03:30<00:00, 108.11it/s]\n",
      "  0%|          | 1/22784 [00:00<56:57,  6.67it/s]"
     ]
    },
    {
     "name": "stdout",
     "output_type": "stream",
     "text": [
      "p228xp256\n"
     ]
    },
    {
     "name": "stderr",
     "output_type": "stream",
     "text": [
      "100%|██████████| 22784/22784 [03:31<00:00, 107.66it/s]\n",
      "  0%|          | 1/22784 [00:00<54:26,  6.97it/s]"
     ]
    },
    {
     "name": "stdout",
     "output_type": "stream",
     "text": [
      "p228xp270\n"
     ]
    },
    {
     "name": "stderr",
     "output_type": "stream",
     "text": [
      "100%|██████████| 22784/22784 [03:30<00:00, 108.40it/s]\n",
      "  0%|          | 1/19200 [00:00<39:38,  8.07it/s]"
     ]
    },
    {
     "name": "stdout",
     "output_type": "stream",
     "text": [
      "p256xp225\n"
     ]
    },
    {
     "name": "stderr",
     "output_type": "stream",
     "text": [
      "100%|██████████| 19200/19200 [02:55<00:00, 109.15it/s]\n",
      "  0%|          | 1/19200 [00:00<39:44,  8.05it/s]"
     ]
    },
    {
     "name": "stdout",
     "output_type": "stream",
     "text": [
      "p256xp228\n"
     ]
    },
    {
     "name": "stderr",
     "output_type": "stream",
     "text": [
      "100%|██████████| 19200/19200 [02:55<00:00, 109.22it/s]\n",
      "  0%|          | 1/19200 [00:00<38:35,  8.29it/s]"
     ]
    },
    {
     "name": "stdout",
     "output_type": "stream",
     "text": [
      "p256xp256\n"
     ]
    },
    {
     "name": "stderr",
     "output_type": "stream",
     "text": [
      "100%|██████████| 19200/19200 [02:55<00:00, 109.44it/s]\n",
      "  0%|          | 1/19200 [00:00<39:33,  8.09it/s]"
     ]
    },
    {
     "name": "stdout",
     "output_type": "stream",
     "text": [
      "p256xp270\n"
     ]
    },
    {
     "name": "stderr",
     "output_type": "stream",
     "text": [
      "100%|██████████| 19200/19200 [02:55<00:00, 109.17it/s]\n",
      "  0%|          | 1/27904 [00:00<1:25:59,  5.41it/s]"
     ]
    },
    {
     "name": "stdout",
     "output_type": "stream",
     "text": [
      "p270xp225\n"
     ]
    },
    {
     "name": "stderr",
     "output_type": "stream",
     "text": [
      "100%|██████████| 27904/27904 [04:16<00:00, 108.82it/s]\n",
      "  0%|          | 1/27904 [00:00<1:24:07,  5.53it/s]"
     ]
    },
    {
     "name": "stdout",
     "output_type": "stream",
     "text": [
      "p270xp228\n"
     ]
    },
    {
     "name": "stderr",
     "output_type": "stream",
     "text": [
      "100%|██████████| 27904/27904 [04:15<00:00, 109.00it/s]\n",
      "  0%|          | 1/27904 [00:00<1:28:13,  5.27it/s]"
     ]
    },
    {
     "name": "stdout",
     "output_type": "stream",
     "text": [
      "p270xp256\n"
     ]
    },
    {
     "name": "stderr",
     "output_type": "stream",
     "text": [
      "100%|██████████| 27904/27904 [04:15<00:00, 109.12it/s]\n",
      "  0%|          | 1/27904 [00:00<1:23:39,  5.56it/s]"
     ]
    },
    {
     "name": "stdout",
     "output_type": "stream",
     "text": [
      "p270xp270\n"
     ]
    },
    {
     "name": "stderr",
     "output_type": "stream",
     "text": [
      "100%|██████████| 27904/27904 [04:15<00:00, 109.11it/s]\n"
     ]
    }
   ],
   "source": [
    "import torch\n",
    "import librosa\n",
    "import pickle\n",
    "from synthesis import build_model\n",
    "from synthesis import wavegen\n",
    "\n",
    "spect_vc = pickle.load(open('results.pkl', 'rb'))\n",
    "device = torch.device(\"cuda\")\n",
    "model = build_model().to(device)\n",
    "checkpoint = torch.load(\"checkpoint_step001000000_ema.pth\")\n",
    "model.load_state_dict(checkpoint[\"state_dict\"])\n",
    "\n",
    "for spect in spect_vc:\n",
    "    name = spect[0]\n",
    "    c = spect[1]\n",
    "    print(name)\n",
    "    waveform = wavegen(model, c=c)   \n",
    "    librosa.output.write_wav(name+'.wav', waveform, sr=16000)"
   ]
  },
  {
   "cell_type": "code",
   "execution_count": null,
   "metadata": {},
   "outputs": [],
   "source": []
  }
 ],
 "metadata": {
  "kernelspec": {
   "display_name": "Python 3",
   "language": "python",
   "name": "python3"
  },
  "language_info": {
   "codemirror_mode": {
    "name": "ipython",
    "version": 3
   },
   "file_extension": ".py",
   "mimetype": "text/x-python",
   "name": "python",
   "nbconvert_exporter": "python",
   "pygments_lexer": "ipython3",
   "version": "3.6.12"
  }
 },
 "nbformat": 4,
 "nbformat_minor": 4
}
